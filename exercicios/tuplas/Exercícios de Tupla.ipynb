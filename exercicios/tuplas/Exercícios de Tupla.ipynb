{
 "cells": [
  {
   "cell_type": "markdown",
   "metadata": {},
   "source": [
    "# Exercícios\n",
    "\n",
    "São exercícios bem parecidos com os que fizemos com listas. Mas na tupla, podemos não só trabalhar com índices, mas fazer o \"unpacking\" das tuplas, o que pode facilitar nossos códigos.\n",
    "\n",
    "## 1. Análise de Vendas\n",
    "\n",
    "Nesse exercício vamos fazer uma \"análise simples\" de atingimento de Meta.\n",
    "\n",
    "Temos uma lista com os vendedores e os valores de vendas e queremos identificar (printar) quais os vendedores que bateram a meta e qual foi o valor que eles venderam."
   ]
  },
  {
   "cell_type": "code",
   "execution_count": 4,
   "metadata": {},
   "outputs": [
    {
     "name": "stdout",
     "output_type": "stream",
     "text": [
      "João bateu a meta\n",
      "Julia bateu a meta\n",
      "Ana bateu a meta\n"
     ]
    }
   ],
   "source": [
    "meta = 10000\n",
    "vendas = [\n",
    "    ('João', 15000),\n",
    "    ('Julia', 27000),\n",
    "    ('Marcus', 9900),\n",
    "    ('Maria', 3750),\n",
    "    ('Ana', 10300),\n",
    "    ('Alon', 7870),\n",
    "]\n",
    "\n",
    "for nome, venda in vendas:\n",
    "    if venda > meta:\n",
    "        print(f'{nome} bateu a meta')\n"
   ]
  },
  {
   "cell_type": "markdown",
   "metadata": {},
   "source": [
    "## 2. Comparação com Ano Anterior\n",
    "\n",
    "Digamos que você está analisando as vendas de produtos de um ecommerce e quer identificar quais produtos tiveram no ano de 2020 mais vendas do que no ano de 2019, para reportar isso para a diretoria.\n",
    "\n",
    "Sua resposta pode ser um print de cada produto, qual foi a venda de 2019, a venda de 2020 e o % de crescimento de 2020 para 2019.\n",
    "\n",
    "Lembrando, para calcular o % de crescimento de um produto de um ano para o outro, podemos fazer: (vendas_produto2020/vendas_produto2019 - 1)\n",
    "\n",
    "A lógica da tupla é: (produto, vendas2019, vendas2020)"
   ]
  },
  {
   "cell_type": "code",
   "execution_count": 19,
   "metadata": {},
   "outputs": [
    {
     "name": "stdout",
     "output_type": "stream",
     "text": [
      "O protudo iphone vendeu 951642 e vendeu 558147 unidades. Com uma porcentagem de crescimento de 70.5%\n",
      "O protudo tv vendeu 787604 e vendeu 405252 unidades. Com uma porcentagem de crescimento de 94.35%\n",
      "O protudo máquina de café vendeu 867660 e vendeu 718654 unidades. Com uma porcentagem de crescimento de 20.73%\n",
      "O protudo notebook dell vendeu 694913 e vendeu 422760 unidades. Com uma porcentagem de crescimento de 64.38%\n",
      "O protudo notebook hp vendeu 539704 e vendeu 154753 unidades. Com uma porcentagem de crescimento de 248.8%\n",
      "O protudo microsoft surface vendeu 667179 e vendeu 438508 unidades. Com uma porcentagem de crescimento de 52.15%\n",
      "O protudo webcam vendeu 295633 e vendeu 237467 unidades. Com uma porcentagem de crescimento de 24.49%\n",
      "O protudo caixa de som vendeu 725316 e vendeu 489705 unidades. Com uma porcentagem de crescimento de 48.11%\n",
      "O protudo microfone vendeu 644622 e vendeu 328311 unidades. Com uma porcentagem de crescimento de 96.34%\n",
      "O protudo câmera canon vendeu 994303 e vendeu 591120 unidades. Com uma porcentagem de crescimento de 68.21%\n"
     ]
    }
   ],
   "source": [
    "vendas_produtos = [('iphone', 558147, 951642), ('galaxy', 712350, 244295), ('ipad', 573823, 26964), ('tv', 405252, 787604), ('máquina de café', 718654, 867660), ('kindle', 531580, 78830), ('geladeira', 973139, 710331), ('adega', 892292, 646016), ('notebook dell', 422760, 694913), ('notebook hp', 154753, 539704), ('notebook asus', 887061, 324831), ('microsoft surface', 438508, 667179), ('webcam', 237467, 295633), ('caixa de som', 489705, 725316), ('microfone', 328311, 644622), ('câmera canon', 591120, 994303)]\n",
    "porcetagem = 0\n",
    "for item, venda2019, venda2020 in vendas_produtos:\n",
    "    if venda2020 > venda2019:\n",
    "        porcentagem = (venda2020 / venda2019 - 1) * 100\n",
    "        print(f'O protudo {item} vendeu {venda2020} e vendeu {venda2019} unidades. Com uma porcentagem de crescimento de {porcentagem:.4}%')"
   ]
  }
 ],
 "metadata": {
  "kernelspec": {
   "display_name": "Python 3",
   "language": "python",
   "name": "python3"
  },
  "language_info": {
   "codemirror_mode": {
    "name": "ipython",
    "version": 3
   },
   "file_extension": ".py",
   "mimetype": "text/x-python",
   "name": "python",
   "nbconvert_exporter": "python",
   "pygments_lexer": "ipython3",
   "version": "3.12.2"
  }
 },
 "nbformat": 4,
 "nbformat_minor": 4
}
